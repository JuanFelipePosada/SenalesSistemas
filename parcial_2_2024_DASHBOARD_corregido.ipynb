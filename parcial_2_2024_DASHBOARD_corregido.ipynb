{
  "nbformat": 4,
  "nbformat_minor": 0,
  "metadata": {
    "colab": {
      "provenance": [],
      "authorship_tag": "ABX9TyMacyGrMvftEFxEo0089WRQ",
      "include_colab_link": true
    },
    "kernelspec": {
      "name": "python3",
      "display_name": "Python 3"
    },
    "language_info": {
      "name": "python"
    }
  },
  "cells": [
    {
      "cell_type": "markdown",
      "metadata": {
        "id": "view-in-github",
        "colab_type": "text"
      },
      "source": [
        "<a href=\"https://colab.research.google.com/github/JuanFelipePosada/SenalesSistemas/blob/master/parcial_2_2024_DASHBOARD_corregido.ipynb\" target=\"_parent\"><img src=\"https://colab.research.google.com/assets/colab-badge.svg\" alt=\"Open In Colab\"/></a>"
      ]
    },
    {
      "cell_type": "code",
      "execution_count": 7,
      "metadata": {
        "colab": {
          "base_uri": "https://localhost:8080/"
        },
        "id": "O2DBZhkjMWJH",
        "outputId": "8829472c-428a-491c-96bc-9f14fbfa96e5"
      },
      "outputs": [
        {
          "output_type": "stream",
          "name": "stdout",
          "text": [
            "Requirement already satisfied: pyngrok in /usr/local/lib/python3.10/dist-packages (7.2.0)\n",
            "Requirement already satisfied: PyYAML>=5.1 in /usr/local/lib/python3.10/dist-packages (from pyngrok) (6.0.2)\n"
          ]
        },
        {
          "output_type": "stream",
          "name": "stderr",
          "text": [
            "WARNING:pyngrok.process.ngrok:t=2024-09-27T17:33:38+0000 lvl=warn msg=\"Stopping forwarder\" name=http-5011-5ce33e03-839b-444b-8903-b6281c248bc5 acceptErr=\"failed to accept connection: Listener closed\"\n",
            "WARNING:pyngrok.process.ngrok:t=2024-09-27T17:33:38+0000 lvl=warn msg=\"Stopping forwarder\" name=http-5011-908cffff-c71a-4979-9062-909b0fd51364 acceptErr=\"failed to accept connection: Listener closed\"\n",
            "WARNING:pyngrok.process.ngrok:t=2024-09-27T17:33:38+0000 lvl=warn msg=\"Error restarting forwarder\" name=http-5011-5ce33e03-839b-444b-8903-b6281c248bc5 err=\"failed to start tunnel: session closed\"\n",
            "WARNING:pyngrok.process.ngrok:t=2024-09-27T17:33:38+0000 lvl=warn msg=\"Error restarting forwarder\" name=http-5011-908cffff-c71a-4979-9062-909b0fd51364 err=\"failed to start tunnel: session closed\"\n"
          ]
        },
        {
          "output_type": "stream",
          "name": "stdout",
          "text": [
            "Collecting https://github.com/yt-dlp/yt-dlp/archive/master.tar.gz\n",
            "  Using cached https://github.com/yt-dlp/yt-dlp/archive/master.tar.gz (2.7 MB)\n",
            "  Installing build dependencies ... \u001b[?25l\u001b[?25hdone\n",
            "  Getting requirements to build wheel ... \u001b[?25l\u001b[?25hdone\n",
            "  Preparing metadata (pyproject.toml) ... \u001b[?25l\u001b[?25hdone\n",
            "Collecting brotli (from yt-dlp==2024.8.6)\n",
            "  Using cached Brotli-1.1.0-cp310-cp310-manylinux_2_5_x86_64.manylinux1_x86_64.manylinux_2_12_x86_64.manylinux2010_x86_64.whl.metadata (5.5 kB)\n",
            "Collecting certifi (from yt-dlp==2024.8.6)\n",
            "  Using cached certifi-2024.8.30-py3-none-any.whl.metadata (2.2 kB)\n",
            "Collecting mutagen (from yt-dlp==2024.8.6)\n",
            "  Using cached mutagen-1.47.0-py3-none-any.whl.metadata (1.7 kB)\n",
            "Collecting pycryptodomex (from yt-dlp==2024.8.6)\n",
            "  Using cached pycryptodomex-3.20.0-cp35-abi3-manylinux_2_17_x86_64.manylinux2014_x86_64.whl.metadata (3.4 kB)\n",
            "Collecting requests<3,>=2.32.2 (from yt-dlp==2024.8.6)\n",
            "  Using cached requests-2.32.3-py3-none-any.whl.metadata (4.6 kB)\n",
            "Collecting urllib3<3,>=1.26.17 (from yt-dlp==2024.8.6)\n",
            "  Using cached urllib3-2.2.3-py3-none-any.whl.metadata (6.5 kB)\n",
            "Collecting websockets>=13.0 (from yt-dlp==2024.8.6)\n",
            "  Using cached websockets-13.1-cp310-cp310-manylinux_2_5_x86_64.manylinux1_x86_64.manylinux_2_17_x86_64.manylinux2014_x86_64.whl.metadata (6.8 kB)\n",
            "Collecting charset-normalizer<4,>=2 (from requests<3,>=2.32.2->yt-dlp==2024.8.6)\n",
            "  Using cached charset_normalizer-3.3.2-cp310-cp310-manylinux_2_17_x86_64.manylinux2014_x86_64.whl.metadata (33 kB)\n",
            "Collecting idna<4,>=2.5 (from requests<3,>=2.32.2->yt-dlp==2024.8.6)\n",
            "  Using cached idna-3.10-py3-none-any.whl.metadata (10 kB)\n",
            "Using cached requests-2.32.3-py3-none-any.whl (64 kB)\n",
            "Using cached certifi-2024.8.30-py3-none-any.whl (167 kB)\n",
            "Using cached urllib3-2.2.3-py3-none-any.whl (126 kB)\n",
            "Using cached websockets-13.1-cp310-cp310-manylinux_2_5_x86_64.manylinux1_x86_64.manylinux_2_17_x86_64.manylinux2014_x86_64.whl (164 kB)\n",
            "Using cached Brotli-1.1.0-cp310-cp310-manylinux_2_5_x86_64.manylinux1_x86_64.manylinux_2_12_x86_64.manylinux2010_x86_64.whl (3.0 MB)\n",
            "Using cached mutagen-1.47.0-py3-none-any.whl (194 kB)\n",
            "Using cached pycryptodomex-3.20.0-cp35-abi3-manylinux_2_17_x86_64.manylinux2014_x86_64.whl (2.1 MB)\n",
            "Using cached charset_normalizer-3.3.2-cp310-cp310-manylinux_2_17_x86_64.manylinux2014_x86_64.whl (142 kB)\n",
            "Using cached idna-3.10-py3-none-any.whl (70 kB)\n",
            "Building wheels for collected packages: yt-dlp\n",
            "  Building wheel for yt-dlp (pyproject.toml) ... \u001b[?25l\u001b[?25hdone\n",
            "  Created wheel for yt-dlp: filename=yt_dlp-2024.8.6-py3-none-any.whl size=2895067 sha256=e9f0829c9c58e719536b3e3e10674d8c4e9d65ee5855374d2689de42f99e7cd3\n",
            "  Stored in directory: /tmp/pip-ephem-wheel-cache-m0ranh17/wheels/4c/91/d1/c5369304e2f7afb660bb6eee093af5a7d3c0ea05a3c1e8c797\n",
            "Successfully built yt-dlp\n",
            "Installing collected packages: brotli, websockets, urllib3, pycryptodomex, mutagen, idna, charset-normalizer, certifi, requests, yt-dlp\n",
            "  Attempting uninstall: brotli\n",
            "    Found existing installation: Brotli 1.1.0\n",
            "    Uninstalling Brotli-1.1.0:\n",
            "      Successfully uninstalled Brotli-1.1.0\n",
            "  Attempting uninstall: websockets\n",
            "    Found existing installation: websockets 13.1\n",
            "    Uninstalling websockets-13.1:\n",
            "      Successfully uninstalled websockets-13.1\n",
            "  Attempting uninstall: urllib3\n",
            "    Found existing installation: urllib3 2.2.3\n",
            "    Uninstalling urllib3-2.2.3:\n",
            "      Successfully uninstalled urllib3-2.2.3\n",
            "  Attempting uninstall: pycryptodomex\n",
            "    Found existing installation: pycryptodomex 3.20.0\n",
            "    Uninstalling pycryptodomex-3.20.0:\n",
            "      Successfully uninstalled pycryptodomex-3.20.0\n",
            "  Attempting uninstall: mutagen\n",
            "    Found existing installation: mutagen 1.47.0\n",
            "    Uninstalling mutagen-1.47.0:\n",
            "      Successfully uninstalled mutagen-1.47.0\n",
            "  Attempting uninstall: idna\n",
            "    Found existing installation: idna 3.10\n",
            "    Uninstalling idna-3.10:\n",
            "      Successfully uninstalled idna-3.10\n",
            "  Attempting uninstall: charset-normalizer\n",
            "    Found existing installation: charset-normalizer 3.3.2\n",
            "    Uninstalling charset-normalizer-3.3.2:\n",
            "      Successfully uninstalled charset-normalizer-3.3.2\n",
            "  Attempting uninstall: certifi\n",
            "    Found existing installation: certifi 2024.8.30\n",
            "    Uninstalling certifi-2024.8.30:\n",
            "      Successfully uninstalled certifi-2024.8.30\n",
            "  Attempting uninstall: requests\n",
            "    Found existing installation: requests 2.32.3\n",
            "    Uninstalling requests-2.32.3:\n",
            "      Successfully uninstalled requests-2.32.3\n",
            "  Attempting uninstall: yt-dlp\n",
            "    Found existing installation: yt-dlp 2024.8.6\n",
            "    Uninstalling yt-dlp-2024.8.6:\n",
            "      Successfully uninstalled yt-dlp-2024.8.6\n",
            "Successfully installed brotli-1.1.0 certifi-2024.8.30 charset-normalizer-3.3.2 idna-3.10 mutagen-1.47.0 pycryptodomex-3.20.0 requests-2.32.3 urllib3-2.2.3 websockets-13.1 yt-dlp-2024.8.6\n",
            "Requirement already satisfied: soundfile in /usr/local/lib/python3.10/dist-packages (0.12.1)\n",
            "Requirement already satisfied: cffi>=1.0 in /usr/local/lib/python3.10/dist-packages (from soundfile) (1.17.1)\n",
            "Requirement already satisfied: pycparser in /usr/local/lib/python3.10/dist-packages (from cffi>=1.0->soundfile) (2.22)\n",
            "Requirement already satisfied: yt-dlp in /usr/local/lib/python3.10/dist-packages (2024.8.6)\n",
            "Requirement already satisfied: brotli in /usr/local/lib/python3.10/dist-packages (from yt-dlp) (1.1.0)\n",
            "Requirement already satisfied: certifi in /usr/local/lib/python3.10/dist-packages (from yt-dlp) (2024.8.30)\n",
            "Requirement already satisfied: mutagen in /usr/local/lib/python3.10/dist-packages (from yt-dlp) (1.47.0)\n",
            "Requirement already satisfied: pycryptodomex in /usr/local/lib/python3.10/dist-packages (from yt-dlp) (3.20.0)\n",
            "Requirement already satisfied: requests<3,>=2.32.2 in /usr/local/lib/python3.10/dist-packages (from yt-dlp) (2.32.3)\n",
            "Requirement already satisfied: urllib3<3,>=1.26.17 in /usr/local/lib/python3.10/dist-packages (from yt-dlp) (2.2.3)\n",
            "Requirement already satisfied: websockets>=13.0 in /usr/local/lib/python3.10/dist-packages (from yt-dlp) (13.1)\n",
            "Requirement already satisfied: charset-normalizer<4,>=2 in /usr/local/lib/python3.10/dist-packages (from requests<3,>=2.32.2->yt-dlp) (3.3.2)\n",
            "Requirement already satisfied: idna<4,>=2.5 in /usr/local/lib/python3.10/dist-packages (from requests<3,>=2.32.2->yt-dlp) (3.10)\n"
          ]
        }
      ],
      "source": [
        "!pip install streamlit -q\n",
        "!pip install pyngrok\n",
        "!python3 -m pip install --force-reinstall https://github.com/yt-dlp/yt-dlp/archive/master.tar.gz\n",
        "!pip install soundfile\n",
        "!pip install -U yt-dlp"
      ]
    },
    {
      "cell_type": "code",
      "source": [
        "%%writefile app.py\n",
        "\n",
        "import streamlit as st\n",
        "import numpy as np\n",
        "import matplotlib.pyplot as plt\n",
        "import soundfile as sf\n",
        "import tempfile\n",
        "from scipy.fftpack import fft\n",
        "from scipy.signal import square\n",
        "from scipy.interpolate import interp1d\n",
        "\n",
        "# Configuración inicial de la página\n",
        "st.set_page_config(page_title=\"Parcial 2 - Fourier SyS\", page_icon=\"📊\", layout=\"wide\")\n",
        "\n",
        "# Barra lateral para seleccionar el punto del parcial y mostrar información general\n",
        "with st.sidebar:\n",
        "    st.image(\"https://lh4.googleusercontent.com/proxy/WNtyuTbDjnnITJFxg1dlI63L0jfIMRf0CIKg75VavFd3ameUuokpEiXIZvafO0UbA3rGKkhjDZ2HFtRWcGiPIn7Syd37PqnCrQuXFNHguRRPYm__safRJi9Q\", width=150)\n",
        "    st.title(\"Parcial 2 - Fourier SyS\")\n",
        "    st.subheader(\"Universidad Nacional de Colombia - Sede Manizales\")\n",
        "    st.write(\"**Señales y Sistemas - 2024-1**\")\n",
        "    st.write(\"**Integrantes:**\")\n",
        "    st.write(\"- Juan Felipe Posada Niasa\")\n",
        "    st.write(\"- Juan Jose Montilla Bastidas\")\n",
        "\n",
        "    # Menú desplegable para seleccionar el punto del parcial\n",
        "    punto = st.selectbox(\"Selecciona el punto del parcial\",\n",
        "                         (\"Punto 1: Expresión del Espectro de Fourier\",\n",
        "                          \"Punto 2: Simulación y Espectro de Fourier\",\n",
        "                          \"Punto 3: Modulación en Amplitud (AM) con Audio\",\n",
        "                          \"Punto 4: THD y Factor de Potencia\"))\n",
        "\n",
        "\n",
        "\n",
        "# Mostrar información general del punto seleccionado\n",
        "if punto == \"Punto 1: Expresión del Espectro de Fourier\":\n",
        "\n",
        "        st.write(\"### Expresión del Espectro de Fourier (Forma Exponencial y Trigonométrica) \")\n",
        "\n",
        "        # Desarrollo de la señal\n",
        "        st.write(\"#### Desarrollo:\")\n",
        "        st.write(\"Dada la señal original:\")\n",
        "        st.latex(r\"x(t) = |A \\sin(2\\pi F_o t)|^2 = A^2 \\sin^2(2\\pi F_o t) = A^2 \\left( \\frac{1}{2} - \\frac{\\cos(2\\pi 2 F_o t)}{2} \\right)\")\n",
        "\n",
        "        st.write(\"Aplicando la serie trigonométrica:\")\n",
        "        st.latex(r\"x(t) = a_0 + \\sum_{n=-N}^N a_n \\cos(n\\omega_0 t) + b_n \\sin(n\\omega_0 t)\")\n",
        "        st.write(\"Como la señal es par, \\(b_n = 0\\) para todos los \\(n\\). Los coeficientes son:\")\n",
        "        st.latex(r\"a_0 = \\frac{A^2}{2}\")\n",
        "        st.latex(r\"a_2 = -\\frac{A^2}{2}\")\n",
        "        st.latex(r\"a_n = 0 \\quad \\text{para} \\quad n \\neq 2\")\n",
        "\n",
        "        st.write(\"Para la serie exponencial compleja:\")\n",
        "        st.latex(r\"x(t) = \\sum_{n=-N}^{N} c_n e^{j n \\omega_0 t}\")\n",
        "        st.write(\"Donde:\")\n",
        "        st.latex(r\"c_0 = \\frac{A^2}{2}\")\n",
        "        st.latex(r\"c_2 = -\\frac{A^2}{4}\")\n",
        "        st.latex(r\"c_{-2} = \\frac{A^2}{4}\")\n",
        "\n",
        "        st.write(\"## Parametros para de la señal\")\n",
        "\n",
        "        A = st.slider(\"Amplitud de señal(A)\", 1, 11, 0)\n",
        "        F_o= st.slider(\"Frecuencia de señal original(F)\", 0, 120  , step=10)\n",
        "        ti= -1/ (2 * F_o)\n",
        "        tf= 1/ (2 * F_o)\n",
        "        Nm= 1000\n",
        "        tv = np.linspace(ti, tf, Nm)\n",
        "        x = np.abs(A * np.sin(2 * np.pi * F_o * tv))**2\n",
        "\n",
        "        # Graficar la señal\n",
        "        st.write(\"### Gráfico de la señal $|A\\\\sin(2\\\\pi F_o t)|^2$\")\n",
        "        fig, ax = plt.subplots()\n",
        "        ax.plot(tv, x)\n",
        "        ax.set_xlabel('Tiempo [s]')\n",
        "        ax.set_ylabel('$x(t)$')\n",
        "        ax.grid(True)\n",
        "        st.pyplot(fig)\n",
        "\n",
        "#######################################################################################\n",
        "\n",
        "elif punto == \"Punto 2: Simulación y Espectro de Fourier\":\n",
        "        st.write(\"### Simulacion y Espectros de Fourier\")\n",
        "        st.write(\"## ahora graficamos los espectros, fase, magnitud de la serie de fourier que hallamos en el punto 1\")\n"
      ],
      "metadata": {
        "colab": {
          "base_uri": "https://localhost:8080/"
        },
        "id": "fXrmV6V4MZ3v",
        "outputId": "d70948c4-6bbd-4f79-e2c2-bd8f806f0654"
      },
      "execution_count": 63,
      "outputs": [
        {
          "output_type": "stream",
          "name": "stdout",
          "text": [
            "Overwriting app.py\n"
          ]
        }
      ]
    },
    {
      "cell_type": "code",
      "source": [
        "from pyngrok import ngrok\n",
        "\n",
        "# Token personal de ngrok\n",
        "token = \"2lLFiUsTGsQClQyxWz9mY9rLIup_7vUusFxPVHjfdMEa1CryT\"\n",
        "ngrok.set_auth_token(token)\n",
        "\n",
        "# Ejecutar Streamlit en el puerto 5011\n",
        "!nohup streamlit run app.py --server.port 5011 &\n",
        "\n",
        "# Iniciar el túnel Ngrok y exponer Streamlit en una URL.\n",
        "public_url = ngrok.connect(5011)\n",
        "print(f\"Aplicación aquí: {public_url}\")"
      ],
      "metadata": {
        "colab": {
          "base_uri": "https://localhost:8080/"
        },
        "id": "pu8pxJR0fB-w",
        "outputId": "feef4507-5b80-486b-b484-4ca055ec91e1"
      },
      "execution_count": 64,
      "outputs": [
        {
          "output_type": "stream",
          "name": "stdout",
          "text": [
            "nohup: appending output to 'nohup.out'\n",
            "Aplicación aquí: NgrokTunnel: \"https://49da-34-106-57-91.ngrok-free.app\" -> \"http://localhost:5011\"\n"
          ]
        }
      ]
    }
  ]
}